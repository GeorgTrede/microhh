{
 "cells": [
  {
   "cell_type": "code",
   "execution_count": 2,
   "metadata": {},
   "outputs": [],
   "source": [
    "import numpy as np\n",
    "import matplotlib.pyplot as plt\n",
    "import os\n",
    "\n",
    "# set plt font size\n",
    "plt.rcParams.update({\"font.size\": 16})"
   ]
  },
  {
   "cell_type": "code",
   "execution_count": 3,
   "metadata": {},
   "outputs": [],
   "source": [
    "os.chdir(\"/Users/georg/Studium/Master/Thesis/env/microhh/cases/jaenschwalde/\")"
   ]
  },
  {
   "cell_type": "code",
   "execution_count": 6,
   "metadata": {},
   "outputs": [
    {
     "data": {
      "text/plain": [
       "<matplotlib.collections.PathCollection at 0x10f84d8b0>"
      ]
     },
     "execution_count": 6,
     "metadata": {},
     "output_type": "execute_result"
    },
    {
     "data": {
      "image/png": "[encoded data removed]",
      "text/plain": [
       "<Figure size 720x360 with 1 Axes>"
      ]
     },
     "metadata": {
      "needs_background": "light"
     },
     "output_type": "display_data"
    }
   ],
   "source": [
    "plt.figure(figsize=(10, 5))\n",
    "# plot rectangle of extent 12.8km x 3.2km\n",
    "plt.plot([0, 0], [0, 3200], \"k\")\n",
    "plt.plot([0, 12800], [3200, 3200], \"k\")\n",
    "plt.plot([12800, 12800], [3200, 0], \"k\")\n",
    "plt.plot([12800, 0], [0, 0], \"k\")\n",
    "\n",
    "# plot sources with these coordinates:\n",
    "# source_x0=670,960,1250,710,1000,1290,750,1040,1330\n",
    "# source_y0=1480.0,1480.0,1480.0,1600.0,1600.0,1600.0,1720.0,1720.0,1720.0\n",
    "\n",
    "sources_x = [670, 960, 1250, 710, 1000, 1290, 750, 1040, 1330]\n",
    "sources_y = [1480.0, 1480.0, 1480.0, 1600.0, 1600.0, 1600.0, 1720.0, 1720.0, 1720.0]\n",
    "plt.scatter(sources_x, sources_y, c=\"r\", label=\"sources\")"
   ]
  },
  {
   "cell_type": "code",
   "execution_count": null,
   "metadata": {},
   "outputs": [],
   "source": []
  }
 ],
 "metadata": {
  "kernelspec": {
   "display_name": "base",
   "language": "python",
   "name": "python3"
  },
  "language_info": {
   "codemirror_mode": {
    "name": "ipython",
    "version": 3
   },
   "file_extension": ".py",
   "mimetype": "text/x-python",
   "name": "python",
   "nbconvert_exporter": "python",
   "pygments_lexer": "ipython3",
   "version": "3.9.7"
  }
 },
 "nbformat": 4,
 "nbformat_minor": 2
}
