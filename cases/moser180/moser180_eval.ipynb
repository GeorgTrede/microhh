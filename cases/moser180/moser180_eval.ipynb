{
 "cells": [
  {
   "cell_type": "code",
   "execution_count": 2,
   "metadata": {},
   "outputs": [],
   "source": [
    "import numpy as np\n",
    "import matplotlib.pyplot as plt\n",
    "import netCDF4 as nc\n",
    "import xarray as xr"
   ]
  },
  {
   "cell_type": "code",
   "execution_count": 3,
   "metadata": {},
   "outputs": [],
   "source": [
    "fname_u_xz = \"u.xz.nc\"\n",
    "fname_u_xy = \"u.xy.nc\"\n",
    "\n",
    "ds_u_xz = nc.Dataset(fname_u_xz)\n",
    "ds_u_xy = nc.Dataset(fname_u_xy)"
   ]
  },
  {
   "cell_type": "code",
   "execution_count": 4,
   "metadata": {},
   "outputs": [
    {
     "name": "stdout",
     "output_type": "stream",
     "text": [
      "Frame 124/124\n",
      "Done with xz frames\n",
      "Frame 124/124\n",
      "Done with xy frames\n"
     ]
    }
   ],
   "source": [
    "for t in range(len(ds_u_xz[\"time\"])):\n",
    "    print(f\"\\rFrame {t+1}/{len(ds_u_xz['time'])}\", end=\"\")\n",
    "    plt.figure(figsize=(10, 10))\n",
    "    plt.imshow(ds_u_xz[\"u\"][t, :, 0, :], origin=\"lower\", cmap=\"RdBu_r\")\n",
    "    plt.savefig(\"frames/u_xz_{:04d}.png\".format(t))\n",
    "    plt.close()\n",
    "\n",
    "print()\n",
    "print(\"Done with xz frames\")\n",
    "\n",
    "for t in range(len(ds_u_xy[\"time\"])):\n",
    "    print(f\"\\rFrame {t+1}/{len(ds_u_xy['time'])}\", end=\"\")\n",
    "    plt.figure(figsize=(10, 10))\n",
    "    plt.imshow(ds_u_xy[\"u\"][t, 0, :, :], origin=\"lower\", cmap=\"RdBu_r\")\n",
    "    plt.savefig(\"frames/u_xy_{:04d}.png\".format(t))\n",
    "    plt.close()\n",
    "\n",
    "print()\n",
    "print(\"Done with xy frames\")"
   ]
  },
  {
   "cell_type": "code",
   "execution_count": 1,
   "metadata": {},
   "outputs": [
    {
     "name": "stdout",
     "output_type": "stream",
     "text": [
      "ffmpeg version 6.1.1 Copyright (c) 2000-2023 the FFmpeg developers\n",
      "  built with Apple clang version 15.0.0 (clang-1500.1.0.2.5)\n",
      "  configuration: --prefix=/opt/homebrew/Cellar/ffmpeg/6.1.1_2 --enable-shared --enable-pthreads --enable-version3 --cc=clang --host-cflags= --host-ldflags='-Wl,-ld_classic' --enable-ffplay --enable-gnutls --enable-gpl --enable-libaom --enable-libaribb24 --enable-libbluray --enable-libdav1d --enable-libharfbuzz --enable-libjxl --enable-libmp3lame --enable-libopus --enable-librav1e --enable-librist --enable-librubberband --enable-libsnappy --enable-libsrt --enable-libsvtav1 --enable-libtesseract --enable-libtheora --enable-libvidstab --enable-libvmaf --enable-libvorbis --enable-libvpx --enable-libwebp --enable-libx264 --enable-libx265 --enable-libxml2 --enable-libxvid --enable-lzma --enable-libfontconfig --enable-libfreetype --enable-frei0r --enable-libass --enable-libopencore-amrnb --enable-libopencore-amrwb --enable-libopenjpeg --enable-libspeex --enable-libsoxr --enable-libzmq --enable-libzimg --disable-libjack --disable-indev=jack --enable-videotoolbox --enable-audiotoolbox --enable-neon\n",
      "  libavutil      58. 29.100 / 58. 29.100\n",
      "  libavcodec     60. 31.102 / 60. 31.102\n",
      "  libavformat    60. 16.100 / 60. 16.100\n",
      "  libavdevice    60.  3.100 / 60.  3.100\n",
      "  libavfilter     9. 12.100 /  9. 12.100\n",
      "  libswscale      7.  5.100 /  7.  5.100\n",
      "  libswresample   4. 12.100 /  4. 12.100\n",
      "  libpostproc    57.  3.100 / 57.  3.100\n",
      "Input #0, image2, from 'frames/u_xz_%04d.png':\n",
      "  Duration: 00:00:12.40, start: 0.000000, bitrate: N/A\n",
      "  Stream #0:0: Video: png, rgba(pc, gbr/unknown/unknown), 720x720 [SAR 2835:2835 DAR 1:1], 10 fps, 10 tbr, 10 tbn\n",
      "Stream mapping:\n",
      "  Stream #0:0 -> #0:0 (png (native) -> h264 (libx264))\n",
      "Press [q] to stop, [?] for help\n",
      "\u001b[1;36m[libx264 @ 0x14f006440] \u001b[0musing SAR=1/1\n",
      "\u001b[1;36m[libx264 @ 0x14f006440] \u001b[0musing cpu capabilities: ARMv8 NEON\n",
      "\u001b[1;36m[libx264 @ 0x14f006440] \u001b[0mprofile High, level 3.1, 4:2:0, 8-bit\n",
      "\u001b[1;36m[libx264 @ 0x14f006440] \u001b[0m264 - core 164 r3108 31e19f9 - H.264/MPEG-4 AVC codec - Copyleft 2003-2023 - http://www.videolan.org/x264.html - options: cabac=1 ref=3 deblock=1:0:0 analyse=0x3:0x113 me=hex subme=7 psy=1 psy_rd=1.00:0.00 mixed_ref=1 me_range=16 chroma_me=1 trellis=1 8x8dct=1 cqm=0 deadzone=21,11 fast_pskip=1 chroma_qp_offset=-2 threads=12 lookahead_threads=2 sliced_threads=0 nr=0 decimate=1 interlaced=0 bluray_compat=0 constrained_intra=0 bframes=3 b_pyramid=2 b_adapt=1 b_bias=0 direct=1 weightb=1 open_gop=0 weightp=2 keyint=250 keyint_min=25 scenecut=40 intra_refresh=0 rc_lookahead=40 rc=crf mbtree=1 crf=23.0 qcomp=0.60 qpmin=0 qpmax=69 qpstep=4 ip_ratio=1.40 aq=1:1.00\n",
      "Output #0, mp4, to 'u_xz.mp4':\n",
      "  Metadata:\n",
      "    encoder         : Lavf60.16.100\n",
      "  Stream #0:0: Video: h264 (avc1 / 0x31637661), yuv420p(tv, progressive), 720x720 [SAR 1:1 DAR 1:1], q=2-31, 30 fps, 15360 tbn\n",
      "    Metadata:\n",
      "      encoder         : Lavc60.31.102 libx264\n",
      "    Side data:\n",
      "      cpb: bitrate max/min/avg: 0/0/0 buffer size: 0 vbv_delay: N/A\n",
      "\u001b[1;35m[out#0/mp4 @ 0x14f005380] \u001b[0mvideo:613kB audio:0kB subtitle:0kB other streams:0kB global headers:0kB muxing overhead: 0.832349%\n",
      "frame=  372 fps=138 q=-1.0 Lsize=     618kB time=00:00:12.30 bitrate= 411.6kbits/s dup=248 drop=0 speed=4.57x    \n",
      "\u001b[1;36m[libx264 @ 0x14f006440] \u001b[0mframe I:2     Avg QP:19.30  size:  7382\n",
      "\u001b[1;36m[libx264 @ 0x14f006440] \u001b[0mframe P:97    Avg QP:22.19  size:  4792\n",
      "\u001b[1;36m[libx264 @ 0x14f006440] \u001b[0mframe B:273   Avg QP:18.65  size:   540\n",
      "\u001b[1;36m[libx264 @ 0x14f006440] \u001b[0mconsecutive B-frames:  0.8%  0.0% 12.1% 87.1%\n",
      "\u001b[1;36m[libx264 @ 0x14f006440] \u001b[0mmb I  I16..4: 41.5% 53.2%  5.4%\n",
      "\u001b[1;36m[libx264 @ 0x14f006440] \u001b[0mmb P  I16..4:  3.4%  7.1%  0.6%  P16..4:  9.0%  7.3%  2.9%  0.0%  0.0%    skip:69.6%\n",
      "\u001b[1;36m[libx264 @ 0x14f006440] \u001b[0mmb B  I16..4:  0.1%  0.3%  0.0%  B16..8:  4.2%  0.9%  0.2%  direct: 0.2%  skip:94.0%  L0:42.0% L1:49.8% BI: 8.2%\n",
      "\u001b[1;36m[libx264 @ 0x14f006440] \u001b[0m8x8 transform intra:62.9% inter:94.4%\n",
      "\u001b[1;36m[libx264 @ 0x14f006440] \u001b[0mcoded y,uvDC,uvAC intra: 53.4% 63.3% 45.6% inter: 3.2% 1.9% 0.2%\n",
      "\u001b[1;36m[libx264 @ 0x14f006440] \u001b[0mi16 v,h,dc,p: 16% 73%  1% 10%\n",
      "\u001b[1;36m[libx264 @ 0x14f006440] \u001b[0mi8 v,h,dc,ddl,ddr,vr,hd,vl,hu: 21% 18%  8%  5% 10% 11% 10%  9%  8%\n",
      "\u001b[1;36m[libx264 @ 0x14f006440] \u001b[0mi4 v,h,dc,ddl,ddr,vr,hd,vl,hu: 28% 17% 12%  5% 10% 10%  8%  7%  4%\n",
      "\u001b[1;36m[libx264 @ 0x14f006440] \u001b[0mi8c dc,h,v,p: 33% 40% 13% 14%\n",
      "\u001b[1;36m[libx264 @ 0x14f006440] \u001b[0mWeighted P-Frames: Y:0.0% UV:0.0%\n",
      "\u001b[1;36m[libx264 @ 0x14f006440] \u001b[0mref P L0: 63.7% 13.1% 14.6%  8.6%\n",
      "\u001b[1;36m[libx264 @ 0x14f006440] \u001b[0mref B L0: 85.8%  9.0%  5.2%\n",
      "\u001b[1;36m[libx264 @ 0x14f006440] \u001b[0mref B L1: 99.7%  0.3%\n",
      "\u001b[1;36m[libx264 @ 0x14f006440] \u001b[0mkb/s:404.47\n",
      "ffmpeg version 6.1.1 Copyright (c) 2000-2023 the FFmpeg developers\n",
      "  built with Apple clang version 15.0.0 (clang-1500.1.0.2.5)\n",
      "  configuration: --prefix=/opt/homebrew/Cellar/ffmpeg/6.1.1_2 --enable-shared --enable-pthreads --enable-version3 --cc=clang --host-cflags= --host-ldflags='-Wl,-ld_classic' --enable-ffplay --enable-gnutls --enable-gpl --enable-libaom --enable-libaribb24 --enable-libbluray --enable-libdav1d --enable-libharfbuzz --enable-libjxl --enable-libmp3lame --enable-libopus --enable-librav1e --enable-librist --enable-librubberband --enable-libsnappy --enable-libsrt --enable-libsvtav1 --enable-libtesseract --enable-libtheora --enable-libvidstab --enable-libvmaf --enable-libvorbis --enable-libvpx --enable-libwebp --enable-libx264 --enable-libx265 --enable-libxml2 --enable-libxvid --enable-lzma --enable-libfontconfig --enable-libfreetype --enable-frei0r --enable-libass --enable-libopencore-amrnb --enable-libopencore-amrwb --enable-libopenjpeg --enable-libspeex --enable-libsoxr --enable-libzmq --enable-libzimg --disable-libjack --disable-indev=jack --enable-videotoolbox --enable-audiotoolbox --enable-neon\n",
      "  libavutil      58. 29.100 / 58. 29.100\n",
      "  libavcodec     60. 31.102 / 60. 31.102\n",
      "  libavformat    60. 16.100 / 60. 16.100\n",
      "  libavdevice    60.  3.100 / 60.  3.100\n",
      "  libavfilter     9. 12.100 /  9. 12.100\n",
      "  libswscale      7.  5.100 /  7.  5.100\n",
      "  libswresample   4. 12.100 /  4. 12.100\n",
      "  libpostproc    57.  3.100 / 57.  3.100\n",
      "Input #0, image2, from 'frames/u_xy_%04d.png':\n",
      "  Duration: 00:00:12.40, start: 0.000000, bitrate: N/A\n",
      "  Stream #0:0: Video: png, rgba(pc, gbr/unknown/unknown), 720x720 [SAR 2835:2835 DAR 1:1], 10 fps, 10 tbr, 10 tbn\n",
      "Stream mapping:\n",
      "  Stream #0:0 -> #0:0 (png (native) -> h264 (libx264))\n",
      "Press [q] to stop, [?] for help\n",
      "\u001b[1;36m[libx264 @ 0x1249061c0] \u001b[0musing SAR=1/1\n",
      "\u001b[1;36m[libx264 @ 0x1249061c0] \u001b[0musing cpu capabilities: ARMv8 NEON\n",
      "\u001b[1;36m[libx264 @ 0x1249061c0] \u001b[0mprofile High, level 3.1, 4:2:0, 8-bit\n",
      "\u001b[1;36m[libx264 @ 0x1249061c0] \u001b[0m264 - core 164 r3108 31e19f9 - H.264/MPEG-4 AVC codec - Copyleft 2003-2023 - http://www.videolan.org/x264.html - options: cabac=1 ref=3 deblock=1:0:0 analyse=0x3:0x113 me=hex subme=7 psy=1 psy_rd=1.00:0.00 mixed_ref=1 me_range=16 chroma_me=1 trellis=1 8x8dct=1 cqm=0 deadzone=21,11 fast_pskip=1 chroma_qp_offset=-2 threads=12 lookahead_threads=2 sliced_threads=0 nr=0 decimate=1 interlaced=0 bluray_compat=0 constrained_intra=0 bframes=3 b_pyramid=2 b_adapt=1 b_bias=0 direct=1 weightb=1 open_gop=0 weightp=2 keyint=250 keyint_min=25 scenecut=40 intra_refresh=0 rc_lookahead=40 rc=crf mbtree=1 crf=23.0 qcomp=0.60 qpmin=0 qpmax=69 qpstep=4 ip_ratio=1.40 aq=1:1.00\n",
      "Output #0, mp4, to 'u_xy.mp4':\n",
      "  Metadata:\n",
      "    encoder         : Lavf60.16.100\n",
      "  Stream #0:0: Video: h264 (avc1 / 0x31637661), yuv420p(tv, progressive), 720x720 [SAR 1:1 DAR 1:1], q=2-31, 30 fps, 15360 tbn\n",
      "    Metadata:\n",
      "      encoder         : Lavc60.31.102 libx264\n",
      "    Side data:\n",
      "      cpb: bitrate max/min/avg: 0/0/0 buffer size: 0 vbv_delay: N/A\n",
      "\u001b[1;35m[out#0/mp4 @ 0x1249043e0] \u001b[0mvideo:1583kB audio:0kB subtitle:0kB other streams:0kB global headers:0kB muxing overhead: 0.322765%\n",
      "frame=  372 fps=102 q=-1.0 Lsize=    1588kB time=00:00:12.30 bitrate=1057.7kbits/s dup=248 drop=0 speed=3.39x    \n",
      "\u001b[1;36m[libx264 @ 0x1249061c0] \u001b[0mframe I:4     Avg QP:19.75  size: 49814\n",
      "\u001b[1;36m[libx264 @ 0x1249061c0] \u001b[0mframe P:97    Avg QP:24.76  size: 11419\n",
      "\u001b[1;36m[libx264 @ 0x1249061c0] \u001b[0mframe B:271   Avg QP:21.79  size:  1156\n",
      "\u001b[1;36m[libx264 @ 0x1249061c0] \u001b[0mconsecutive B-frames:  1.3%  0.0% 13.7% 84.9%\n",
      "\u001b[1;36m[libx264 @ 0x1249061c0] \u001b[0mmb I  I16..4: 27.8% 56.6% 15.7%\n",
      "\u001b[1;36m[libx264 @ 0x1249061c0] \u001b[0mmb P  I16..4:  5.4% 16.4%  3.2%  P16..4:  7.6% 10.1%  4.7%  0.0%  0.0%    skip:52.7%\n",
      "\u001b[1;36m[libx264 @ 0x1249061c0] \u001b[0mmb B  I16..4:  0.2%  0.6%  0.2%  B16..8:  5.9%  1.5%  0.5%  direct: 0.5%  skip:90.7%  L0:45.0% L1:47.4% BI: 7.7%\n",
      "\u001b[1;36m[libx264 @ 0x1249061c0] \u001b[0m8x8 transform intra:64.2% inter:89.3%\n",
      "\u001b[1;36m[libx264 @ 0x1249061c0] \u001b[0mcoded y,uvDC,uvAC intra: 66.1% 74.5% 68.6% inter: 5.9% 4.7% 1.1%\n",
      "\u001b[1;36m[libx264 @ 0x1249061c0] \u001b[0mi16 v,h,dc,p: 29% 68%  1%  2%\n",
      "\u001b[1;36m[libx264 @ 0x1249061c0] \u001b[0mi8 v,h,dc,ddl,ddr,vr,hd,vl,hu: 22% 13%  8%  5% 10% 15%  7% 13%  8%\n",
      "\u001b[1;36m[libx264 @ 0x1249061c0] \u001b[0mi4 v,h,dc,ddl,ddr,vr,hd,vl,hu: 26% 17% 11%  5% 10% 11%  6%  8%  5%\n",
      "\u001b[1;36m[libx264 @ 0x1249061c0] \u001b[0mi8c dc,h,v,p: 36% 29% 19% 16%\n",
      "\u001b[1;36m[libx264 @ 0x1249061c0] \u001b[0mWeighted P-Frames: Y:0.0% UV:0.0%\n",
      "\u001b[1;36m[libx264 @ 0x1249061c0] \u001b[0mref P L0: 61.7% 15.4% 14.5%  8.5%\n",
      "\u001b[1;36m[libx264 @ 0x1249061c0] \u001b[0mref B L0: 84.1% 10.2%  5.6%\n",
      "\u001b[1;36m[libx264 @ 0x1249061c0] \u001b[0mref B L1: 99.3%  0.7%\n",
      "\u001b[1;36m[libx264 @ 0x1249061c0] \u001b[0mkb/s:1045.36\n"
     ]
    }
   ],
   "source": [
    "# combine into video\n",
    "!ffmpeg -framerate 10 -i frames/u_xz_%04d.png -c:v libx264 -r 30 -pix_fmt yuv420p u_xz.mp4\n",
    "!ffmpeg -framerate 10 -i frames/u_xy_%04d.png -c:v libx264 -r 30 -pix_fmt yuv420p u_xy.mp4"
   ]
  },
  {
   "cell_type": "code",
   "execution_count": null,
   "metadata": {},
   "outputs": [],
   "source": []
  }
 ],
 "metadata": {
  "kernelspec": {
   "display_name": "base",
   "language": "python",
   "name": "python3"
  },
  "language_info": {
   "codemirror_mode": {
    "name": "ipython",
    "version": 3
   },
   "file_extension": ".py",
   "mimetype": "text/x-python",
   "name": "python",
   "nbconvert_exporter": "python",
   "pygments_lexer": "ipython3",
   "version": "3.9.7"
  }
 },
 "nbformat": 4,
 "nbformat_minor": 2
}
