{
 "cells": [
  {
   "cell_type": "code",
   "execution_count": 15,
   "metadata": {},
   "outputs": [],
   "source": [
    "import matplotlib.pyplot as plt\n",
    "import netCDF4 as nc\n",
    "import os"
   ]
  },
  {
   "cell_type": "code",
   "execution_count": 16,
   "metadata": {},
   "outputs": [],
   "source": [
    "fname_co2_xz = 'co2.xz.nc'\n",
    "fname_co2_xy = 'co2.xy.nc'\n",
    "\n",
    "ds_co2_xz = nc.Dataset(fname_co2_xz)\n",
    "ds_co2_xy = nc.Dataset(fname_co2_xy)"
   ]
  },
  {
   "cell_type": "code",
   "execution_count": 17,
   "metadata": {},
   "outputs": [
    {
     "data": {
      "text/plain": [
       "<matplotlib.image.AxesImage at 0x16df07b20>"
      ]
     },
     "execution_count": 17,
     "metadata": {},
     "output_type": "execute_result"
    },
    {
     "data": {
      "image/png": "[encoded data removed]",
      "text/plain": [
       "<Figure size 432x288 with 1 Axes>"
      ]
     },
     "metadata": {
      "needs_background": "light"
     },
     "output_type": "display_data"
    }
   ],
   "source": [
    "plt.imshow(ds_co2_xz['co2'][-6,:,0,:], origin='lower')"
   ]
  },
  {
   "cell_type": "code",
   "execution_count": 18,
   "metadata": {},
   "outputs": [
    {
     "name": "stdout",
     "output_type": "stream",
     "text": [
      "Frame 121/121\n",
      "Done with xz frames\n",
      "Frame 121/121\n",
      "Done with xy frames\n"
     ]
    }
   ],
   "source": [
    "for t in range(len(ds_co2_xz['time'])):\n",
    "    print(f\"\\rFrame {t+1}/{len(ds_co2_xz['time'])}\", end='')\n",
    "    plt.figure(figsize=(10,10))\n",
    "    plt.imshow(ds_co2_xz['co2'][t,:,0,:], origin='lower', cmap='jet')\n",
    "    plt.savefig('frames/co2_xz_{:04d}.png'.format(t))\n",
    "    plt.close()\n",
    "\n",
    "print()\n",
    "print(\"Done with xz frames\")\n",
    "\n",
    "for t in range(len(ds_co2_xy['time'])):\n",
    "    print(f\"\\rFrame {t+1}/{len(ds_co2_xy['time'])}\", end='')\n",
    "    plt.figure(figsize=(10,10))\n",
    "    plt.imshow(ds_co2_xy['co2'][t,0,:,:], origin='lower')\n",
    "    plt.savefig('frames/co2_xy_{:04d}.png'.format(t))\n",
    "    plt.close()\n",
    "\n",
    "print()\n",
    "print(\"Done with xy frames\")"
   ]
  },
  {
   "cell_type": "code",
   "execution_count": 19,
   "metadata": {},
   "outputs": [
    {
     "name": "stdout",
     "output_type": "stream",
     "text": [
      "ffmpeg version 6.1.1 Copyright (c) 2000-2023 the FFmpeg developers\n",
      "  built with Apple clang version 15.0.0 (clang-1500.1.0.2.5)\n",
      "  configuration: --prefix=/opt/homebrew/Cellar/ffmpeg/6.1.1_2 --enable-shared --enable-pthreads --enable-version3 --cc=clang --host-cflags= --host-ldflags='-Wl,-ld_classic' --enable-ffplay --enable-gnutls --enable-gpl --enable-libaom --enable-libaribb24 --enable-libbluray --enable-libdav1d --enable-libharfbuzz --enable-libjxl --enable-libmp3lame --enable-libopus --enable-librav1e --enable-librist --enable-librubberband --enable-libsnappy --enable-libsrt --enable-libsvtav1 --enable-libtesseract --enable-libtheora --enable-libvidstab --enable-libvmaf --enable-libvorbis --enable-libvpx --enable-libwebp --enable-libx264 --enable-libx265 --enable-libxml2 --enable-libxvid --enable-lzma --enable-libfontconfig --enable-libfreetype --enable-frei0r --enable-libass --enable-libopencore-amrnb --enable-libopencore-amrwb --enable-libopenjpeg --enable-libspeex --enable-libsoxr --enable-libzmq --enable-libzimg --disable-libjack --disable-indev=jack --enable-videotoolbox --enable-audiotoolbox --enable-neon\n",
      "  libavutil      58. 29.100 / 58. 29.100\n",
      "  libavcodec     60. 31.102 / 60. 31.102\n",
      "  libavformat    60. 16.100 / 60. 16.100\n",
      "  libavdevice    60.  3.100 / 60.  3.100\n",
      "  libavfilter     9. 12.100 /  9. 12.100\n",
      "  libswscale      7.  5.100 /  7.  5.100\n",
      "  libswresample   4. 12.100 /  4. 12.100\n",
      "  libpostproc    57.  3.100 / 57.  3.100\n",
      "Input #0, image2, from 'frames/co2_xz_%04d.png':\n",
      "  Duration: 00:00:12.10, start: 0.000000, bitrate: N/A\n",
      "  Stream #0:0: Video: png, rgba(pc, gbr/unknown/unknown), 720x720 [SAR 2835:2835 DAR 1:1], 10 fps, 10 tbr, 10 tbn\n",
      "Stream mapping:\n",
      "  Stream #0:0 -> #0:0 (png (native) -> h264 (libx264))\n",
      "Press [q] to stop, [?] for help\n",
      "\u001b[1;36m[libx264 @ 0x12a62f5a0] \u001b[0musing SAR=1/1\n",
      "\u001b[1;36m[libx264 @ 0x12a62f5a0] \u001b[0musing cpu capabilities: ARMv8 NEON\n",
      "\u001b[1;36m[libx264 @ 0x12a62f5a0] \u001b[0mprofile High, level 3.1, 4:2:0, 8-bit\n",
      "\u001b[1;36m[libx264 @ 0x12a62f5a0] \u001b[0m264 - core 164 r3108 31e19f9 - H.264/MPEG-4 AVC codec - Copyleft 2003-2023 - http://www.videolan.org/x264.html - options: cabac=1 ref=3 deblock=1:0:0 analyse=0x3:0x113 me=hex subme=7 psy=1 psy_rd=1.00:0.00 mixed_ref=1 me_range=16 chroma_me=1 trellis=1 8x8dct=1 cqm=0 deadzone=21,11 fast_pskip=1 chroma_qp_offset=-2 threads=12 lookahead_threads=2 sliced_threads=0 nr=0 decimate=1 interlaced=0 bluray_compat=0 constrained_intra=0 bframes=3 b_pyramid=2 b_adapt=1 b_bias=0 direct=1 weightb=1 open_gop=0 weightp=2 keyint=250 keyint_min=25 scenecut=40 intra_refresh=0 rc_lookahead=40 rc=crf mbtree=1 crf=23.0 qcomp=0.60 qpmin=0 qpmax=69 qpstep=4 ip_ratio=1.40 aq=1:1.00\n",
      "Output #0, mp4, to 'co2_xz.mp4':\n",
      "  Metadata:\n",
      "    encoder         : Lavf60.16.100\n",
      "  Stream #0:0: Video: h264 (avc1 / 0x31637661), yuv420p(tv, progressive), 720x720 [SAR 1:1 DAR 1:1], q=2-31, 30 fps, 15360 tbn\n",
      "    Metadata:\n",
      "      encoder         : Lavc60.31.102 libx264\n",
      "    Side data:\n",
      "      cpb: bitrate max/min/avg: 0/0/0 buffer size: 0 vbv_delay: N/A\n",
      "\u001b[1;35m[out#0/mp4 @ 0x12a62ec50] \u001b[0mvideo:446kB audio:0kB subtitle:0kB other streams:0kB global headers:0kB muxing overhead: 1.140403%\n",
      "frame=  363 fps=0.0 q=-1.0 Lsize=     451kB time=00:00:12.00 bitrate= 307.7kbits/s dup=242 drop=0 speed=21.8x    \n",
      "\u001b[1;36m[libx264 @ 0x12a62f5a0] \u001b[0mframe I:2     Avg QP:10.82  size:  4226\n",
      "\u001b[1;36m[libx264 @ 0x12a62f5a0] \u001b[0mframe P:92    Avg QP:20.23  size:  3610\n",
      "\u001b[1;36m[libx264 @ 0x12a62f5a0] \u001b[0mframe B:269   Avg QP:18.32  size:   428\n",
      "\u001b[1;36m[libx264 @ 0x12a62f5a0] \u001b[0mconsecutive B-frames:  0.8%  0.0%  3.3% 95.9%\n",
      "\u001b[1;36m[libx264 @ 0x12a62f5a0] \u001b[0mmb I  I16..4: 90.4%  5.0%  4.5%\n",
      "\u001b[1;36m[libx264 @ 0x12a62f5a0] \u001b[0mmb P  I16..4:  1.9%  5.4%  1.7%  P16..4:  3.6%  1.6%  0.6%  0.0%  0.0%    skip:85.3%\n",
      "\u001b[1;36m[libx264 @ 0x12a62f5a0] \u001b[0mmb B  I16..4:  0.1%  0.1%  0.1%  B16..8:  3.7%  0.2%  0.1%  direct: 0.1%  skip:95.5%  L0:48.9% L1:48.6% BI: 2.5%\n",
      "\u001b[1;36m[libx264 @ 0x12a62f5a0] \u001b[0m8x8 transform intra:48.1% inter:58.8%\n",
      "\u001b[1;36m[libx264 @ 0x12a62f5a0] \u001b[0mcoded y,uvDC,uvAC intra: 25.5% 49.9% 46.5% inter: 0.7% 1.5% 1.1%\n",
      "\u001b[1;36m[libx264 @ 0x12a62f5a0] \u001b[0mi16 v,h,dc,p: 68% 23%  3%  5%\n",
      "\u001b[1;36m[libx264 @ 0x12a62f5a0] \u001b[0mi8 v,h,dc,ddl,ddr,vr,hd,vl,hu: 16% 10% 64%  2%  2%  2%  1%  3%  1%\n",
      "\u001b[1;36m[libx264 @ 0x12a62f5a0] \u001b[0mi4 v,h,dc,ddl,ddr,vr,hd,vl,hu: 28% 47% 19%  1%  1%  1%  1%  1%  1%\n",
      "\u001b[1;36m[libx264 @ 0x12a62f5a0] \u001b[0mi8c dc,h,v,p: 53% 23% 18%  7%\n",
      "\u001b[1;36m[libx264 @ 0x12a62f5a0] \u001b[0mWeighted P-Frames: Y:0.0% UV:0.0%\n",
      "\u001b[1;36m[libx264 @ 0x12a62f5a0] \u001b[0mref P L0: 60.6%  5.9% 18.8% 14.7%\n",
      "\u001b[1;36m[libx264 @ 0x12a62f5a0] \u001b[0mref B L0: 88.0%  9.2%  2.8%\n",
      "\u001b[1;36m[libx264 @ 0x12a62f5a0] \u001b[0mref B L1: 99.0%  1.0%\n",
      "\u001b[1;36m[libx264 @ 0x12a62f5a0] \u001b[0mkb/s:301.25\n",
      "ffmpeg version 6.1.1 Copyright (c) 2000-2023 the FFmpeg developers\n",
      "  built with Apple clang version 15.0.0 (clang-1500.1.0.2.5)\n",
      "  configuration: --prefix=/opt/homebrew/Cellar/ffmpeg/6.1.1_2 --enable-shared --enable-pthreads --enable-version3 --cc=clang --host-cflags= --host-ldflags='-Wl,-ld_classic' --enable-ffplay --enable-gnutls --enable-gpl --enable-libaom --enable-libaribb24 --enable-libbluray --enable-libdav1d --enable-libharfbuzz --enable-libjxl --enable-libmp3lame --enable-libopus --enable-librav1e --enable-librist --enable-librubberband --enable-libsnappy --enable-libsrt --enable-libsvtav1 --enable-libtesseract --enable-libtheora --enable-libvidstab --enable-libvmaf --enable-libvorbis --enable-libvpx --enable-libwebp --enable-libx264 --enable-libx265 --enable-libxml2 --enable-libxvid --enable-lzma --enable-libfontconfig --enable-libfreetype --enable-frei0r --enable-libass --enable-libopencore-amrnb --enable-libopencore-amrwb --enable-libopenjpeg --enable-libspeex --enable-libsoxr --enable-libzmq --enable-libzimg --disable-libjack --disable-indev=jack --enable-videotoolbox --enable-audiotoolbox --enable-neon\n",
      "  libavutil      58. 29.100 / 58. 29.100\n",
      "  libavcodec     60. 31.102 / 60. 31.102\n",
      "  libavformat    60. 16.100 / 60. 16.100\n",
      "  libavdevice    60.  3.100 / 60.  3.100\n",
      "  libavfilter     9. 12.100 /  9. 12.100\n",
      "  libswscale      7.  5.100 /  7.  5.100\n",
      "  libswresample   4. 12.100 /  4. 12.100\n",
      "  libpostproc    57.  3.100 / 57.  3.100\n",
      "Input #0, image2, from 'frames/co2_xy_%04d.png':\n",
      "  Duration: 00:00:12.10, start: 0.000000, bitrate: N/A\n",
      "  Stream #0:0: Video: png, rgba(pc, gbr/unknown/unknown), 720x720 [SAR 2835:2835 DAR 1:1], 10 fps, 10 tbr, 10 tbn\n",
      "Stream mapping:\n",
      "  Stream #0:0 -> #0:0 (png (native) -> h264 (libx264))\n",
      "Press [q] to stop, [?] for help\n",
      "\u001b[1;36m[libx264 @ 0x11d906760] \u001b[0musing SAR=1/1\n",
      "\u001b[1;36m[libx264 @ 0x11d906760] \u001b[0musing cpu capabilities: ARMv8 NEON\n",
      "\u001b[1;36m[libx264 @ 0x11d906760] \u001b[0mprofile High, level 3.1, 4:2:0, 8-bit\n",
      "\u001b[1;36m[libx264 @ 0x11d906760] \u001b[0m264 - core 164 r3108 31e19f9 - H.264/MPEG-4 AVC codec - Copyleft 2003-2023 - http://www.videolan.org/x264.html - options: cabac=1 ref=3 deblock=1:0:0 analyse=0x3:0x113 me=hex subme=7 psy=1 psy_rd=1.00:0.00 mixed_ref=1 me_range=16 chroma_me=1 trellis=1 8x8dct=1 cqm=0 deadzone=21,11 fast_pskip=1 chroma_qp_offset=-2 threads=12 lookahead_threads=2 sliced_threads=0 nr=0 decimate=1 interlaced=0 bluray_compat=0 constrained_intra=0 bframes=3 b_pyramid=2 b_adapt=1 b_bias=0 direct=1 weightb=1 open_gop=0 weightp=2 keyint=250 keyint_min=25 scenecut=40 intra_refresh=0 rc_lookahead=40 rc=crf mbtree=1 crf=23.0 qcomp=0.60 qpmin=0 qpmax=69 qpstep=4 ip_ratio=1.40 aq=1:1.00\n",
      "Output #0, mp4, to 'co2_xy.mp4':\n",
      "  Metadata:\n",
      "    encoder         : Lavf60.16.100\n",
      "  Stream #0:0: Video: h264 (avc1 / 0x31637661), yuv420p(tv, progressive), 720x720 [SAR 1:1 DAR 1:1], q=2-31, 30 fps, 15360 tbn\n",
      "    Metadata:\n",
      "      encoder         : Lavc60.31.102 libx264\n",
      "    Side data:\n",
      "      cpb: bitrate max/min/avg: 0/0/0 buffer size: 0 vbv_delay: N/A\n",
      "\u001b[1;35m[out#0/mp4 @ 0x11d9056a0] \u001b[0mvideo:44kB audio:0kB subtitle:0kB other streams:0kB global headers:0kB muxing overhead: 11.547324%\n",
      "frame=  363 fps=0.0 q=-1.0 Lsize=      49kB time=00:00:12.00 bitrate=  33.6kbits/s dup=242 drop=0 speed=31.9x    \n",
      "\u001b[1;36m[libx264 @ 0x11d906760] \u001b[0mframe I:2     Avg QP:10.15  size:  2153\n",
      "\u001b[1;36m[libx264 @ 0x11d906760] \u001b[0mframe P:91    Avg QP:18.50  size:   249\n",
      "\u001b[1;36m[libx264 @ 0x11d906760] \u001b[0mframe B:270   Avg QP:15.57  size:    65\n",
      "\u001b[1;36m[libx264 @ 0x11d906760] \u001b[0mconsecutive B-frames:  0.6%  0.0%  2.5% 97.0%\n",
      "\u001b[1;36m[libx264 @ 0x11d906760] \u001b[0mmb I  I16..4: 93.7%  4.4%  1.9%\n",
      "\u001b[1;36m[libx264 @ 0x11d906760] \u001b[0mmb P  I16..4:  0.4%  0.4%  0.0%  P16..4:  1.1%  0.3%  0.0%  0.0%  0.0%    skip:97.8%\n",
      "\u001b[1;36m[libx264 @ 0x11d906760] \u001b[0mmb B  I16..4:  0.0%  0.0%  0.0%  B16..8:  1.1%  0.0%  0.0%  direct: 0.0%  skip:98.8%  L0:54.8% L1:44.3% BI: 0.9%\n",
      "\u001b[1;36m[libx264 @ 0x11d906760] \u001b[0m8x8 transform intra:14.9% inter:86.1%\n",
      "\u001b[1;36m[libx264 @ 0x11d906760] \u001b[0mcoded y,uvDC,uvAC intra: 5.0% 10.2% 5.8% inter: 0.1% 0.1% 0.0%\n",
      "\u001b[1;36m[libx264 @ 0x11d906760] \u001b[0mi16 v,h,dc,p: 80% 18%  2%  0%\n",
      "\u001b[1;36m[libx264 @ 0x11d906760] \u001b[0mi8 v,h,dc,ddl,ddr,vr,hd,vl,hu: 15% 18% 63%  1%  1%  0%  2%  1%  1%\n",
      "\u001b[1;36m[libx264 @ 0x11d906760] \u001b[0mi4 v,h,dc,ddl,ddr,vr,hd,vl,hu: 24% 44% 27%  1%  1%  1%  1%  1%  1%\n",
      "\u001b[1;36m[libx264 @ 0x11d906760] \u001b[0mi8c dc,h,v,p: 78% 20%  2%  0%\n",
      "\u001b[1;36m[libx264 @ 0x11d906760] \u001b[0mWeighted P-Frames: Y:0.0% UV:0.0%\n",
      "\u001b[1;36m[libx264 @ 0x11d906760] \u001b[0mref P L0: 69.0%  3.0% 17.7% 10.4%\n",
      "\u001b[1;36m[libx264 @ 0x11d906760] \u001b[0mref B L0: 76.5% 20.7%  2.7%\n",
      "\u001b[1;36m[libx264 @ 0x11d906760] \u001b[0mref B L1: 98.9%  1.1%\n",
      "\u001b[1;36m[libx264 @ 0x11d906760] \u001b[0mkb/s:29.39\n"
     ]
    }
   ],
   "source": [
    "\n",
    "# check if files co2_xz.mp4 and co2_xy.mp4 exist\n",
    "# if they do, ask user if they want to overwrite\n",
    "# if they don't, just make them\n",
    "\n",
    "if os.path.isfile('co2_xz.mp4'):\n",
    "    overwrite = input(\"Overwrite co2_xz.mp4? (y/n) \")\n",
    "    if overwrite == 'y':\n",
    "        !rm co2_xz.mp4\n",
    "        !ffmpeg -framerate 10 -i frames/co2_xz_%04d.png -c:v libx264 -r 30 -pix_fmt yuv420p co2_xz.mp4\n",
    "    else:\n",
    "        print(\"Skipping co2_xz.mp4\")\n",
    "else:\n",
    "    !ffmpeg -framerate 10 -i frames/co2_xz_%04d.png -c:v libx264 -r 30 -pix_fmt yuv420p co2_xz.mp4\n",
    "\n",
    "if os.path.isfile('co2_xy.mp4'):\n",
    "    overwrite = input(\"Overwrite co2_xy.mp4? (y/n) \")\n",
    "    if overwrite == 'y':\n",
    "        !rm co2_xy.mp4\n",
    "        !ffmpeg -framerate 10 -i frames/co2_xy_%04d.png -c:v libx264 -r 30 -pix_fmt yuv420p co2_xy.mp4\n",
    "    else:\n",
    "        print(\"Skipping co2_xy.mp4\")\n",
    "else:\n",
    "    !ffmpeg -framerate 10 -i frames/co2_xy_%04d.png -c:v libx264 -r 30 -pix_fmt yuv420p co2_xy.mp4"
   ]
  },
  {
   "cell_type": "code",
   "execution_count": null,
   "metadata": {},
   "outputs": [],
   "source": []
  }
 ],
 "metadata": {
  "kernelspec": {
   "display_name": "base",
   "language": "python",
   "name": "python3"
  },
  "language_info": {
   "codemirror_mode": {
    "name": "ipython",
    "version": 3
   },
   "file_extension": ".py",
   "mimetype": "text/x-python",
   "name": "python",
   "nbconvert_exporter": "python",
   "pygments_lexer": "ipython3",
   "version": "3.9.7"
  }
 },
 "nbformat": 4,
 "nbformat_minor": 2
}
