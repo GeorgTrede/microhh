{
 "cells": [
  {
   "cell_type": "code",
   "execution_count": 2,
   "metadata": {},
   "outputs": [],
   "source": [
    "import matplotlib.pyplot as plt\n",
    "import netCDF4 as nc\n",
    "import os\n",
    "import numpy as np"
   ]
  },
  {
   "cell_type": "code",
   "execution_count": 3,
   "metadata": {},
   "outputs": [],
   "source": [
    "datasets = {}\n",
    "\n",
    "for name in [\"u\", \"w\"]:\n",
    "    for plane in [\"xz\", \"xy\"]:\n",
    "        fname = name + \".\" + plane + \".nc\"\n",
    "        napl = name + \"_\" + plane\n",
    "        datasets[napl] = nc.Dataset(fname)\n",
    "        plt.figure(figsize=(10, 10))\n",
    "        plt.title(fname + \" t=\" + str(datasets[napl][\"time\"][-1]) + \"s\")\n",
    "        dims = datasets[napl].dimensions\n",
    "        if plane == \"xz\":\n",
    "            max_x = np.round(datasets[napl][\"x\" if \"x\" in dims else \"xh\"][-1])\n",
    "            max_z = np.round(datasets[napl][\"z\" if \"z\" in dims else \"zh\"][-1])\n",
    "            plt.imshow(\n",
    "                datasets[napl][name][-1, :, 0, :],\n",
    "                origin=\"lower\",\n",
    "                extent=[ 0, max_x, 0, max_z],\n",
    "            )\n",
    "        elif plane == \"xy\":\n",
    "            max_x = np.round(datasets[napl][\"x\" if \"x\" in dims else \"xh\"][-1])\n",
    "            max_y = np.round(datasets[napl][\"y\" if \"y\" in dims else \"yh\"][-1])\n",
    "            plt.imshow(\n",
    "                datasets[napl][name][-1, 0, :, :],\n",
    "                origin=\"lower\",\n",
    "                extent=[ 0, max_x, 0, max_y],\n",
    "            )\n",
    "        plt.show()\n",
    "\n",
    "        for t in range(len(datasets[napl][\"time\"])):\n",
    "            print(f\"\\rFrame {t+1}/{len(datasets[name + '_' + plane]['time'])}\", end=\"\")\n",
    "            plt.figure(figsize=(10, 10))\n",
    "            plt.title(fname + \" t=\" + str(datasets[napl][\"time\"][t]) + \"s\")\n",
    "            dims = datasets[napl].dimensions\n",
    "            if plane == \"xz\":\n",
    "                max_x = np.round(datasets[napl][\"x\" if \"x\" in dims else \"xh\"][-1])\n",
    "                max_z = np.round(datasets[napl][\"z\" if \"z\" in dims else \"zh\"][-1])\n",
    "                plt.imshow(\n",
    "                    datasets[napl][name][t, :, 0, :],\n",
    "                    origin=\"lower\",\n",
    "                    extent=[ 0, max_x, 0, max_z],\n",
    "                )\n",
    "            elif plane == \"xy\":\n",
    "                max_x = np.round(datasets[napl][\"x\" if \"x\" in dims else \"xh\"][-1])\n",
    "                max_y = np.round(datasets[napl][\"y\" if \"y\" in dims else \"yh\"][-1])\n",
    "                plt.imshow(\n",
    "                    datasets[napl][name][t, 0, :, :],\n",
    "                    origin=\"lower\",\n",
    "                    extent=[0, max_x, 0, max_y],\n",
    "                )\n",
    "            # add axis labels\n",
    "            plt.xlabel(\"x\")\n",
    "            if plane == \"xz\":\n",
    "                plt.ylabel(\"z\")\n",
    "            elif plane == \"xy\":\n",
    "                plt.ylabel(\"y\")\n",
    "            # add tick marks\n",
    "            plt.savefig(f\"frames/{name}_{plane}_{t:04d}.png\")\n",
    "            plt.close()\n",
    "\n",
    "        print()\n",
    "        print(\"Done with \" + fname)\n",
    "        print(\"Making video...\")\n",
    "\n",
    "        if os.path.isfile(f\"{name}_{plane}.mp4\"):\n",
    "            # overwrite = input(\"Overwrite \" + fname + \"? [y/n] \")\n",
    "            overwrite = \"y\"\n",
    "            if overwrite == \"y\":\n",
    "                !rm {name}_{plane}.mp4 > /dev/null 2>&1\n",
    "                !ffmpeg -framerate 10 -i frames/{name}_{plane}_%04d.png -c:v libx264 -r 30 -pix_fmt yuv420p {name}_{plane}.mp4 > /dev/null 2>&1\n",
    "            else:\n",
    "                print(\"Skipping \" + fname)\n",
    "        else:\n",
    "            !ffmpeg -framerate 10 -i frames/{name}_{plane}_%04d.png -c:v libx264 -r 30 -pix_fmt yuv420p {name}_{plane}.mp4 > /dev/null 2>&1\n",
    "\n",
    "        print(\"Done with \" + fname + \" video.\")"
   ]
  },
  {
   "cell_type": "code",
   "execution_count": 7,
   "metadata": {},
   "outputs": [
    {
     "name": "stdout",
     "output_type": "stream",
     "text": [
      "Saved u_xz.npy\n",
      "Saved u_xy.npy\n",
      "Saved w_xz.npy\n",
      "Saved w_xy.npy\n"
     ]
    }
   ],
   "source": [
    "# export data as npy\n",
    "for name in [\"u\", \"w\"]:\n",
    "    for plane in [\"xz\", \"xy\"]:\n",
    "        napl = name + \"_\" + plane\n",
    "        np.save(napl, np.array(datasets[napl][name][:]))\n",
    "        print(f\"Saved {napl}.npy\")"
   ]
  },
  {
   "cell_type": "code",
   "execution_count": null,
   "metadata": {},
   "outputs": [],
   "source": []
  }
 ],
 "metadata": {
  "kernelspec": {
   "display_name": "base",
   "language": "python",
   "name": "python3"
  },
  "language_info": {
   "codemirror_mode": {
    "name": "ipython",
    "version": 3
   },
   "file_extension": ".py",
   "mimetype": "text/x-python",
   "name": "python",
   "nbconvert_exporter": "python",
   "pygments_lexer": "ipython3",
   "version": "3.9.7"
  }
 },
 "nbformat": 4,
 "nbformat_minor": 2
}
